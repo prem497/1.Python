{
 "cells": [
  {
   "cell_type": "code",
   "execution_count": null,
   "id": "c468c23b",
   "metadata": {},
   "outputs": [],
   "source": [
    "print('welcome to Ai course')#print statement\n",
    "print(\"welcome to your new role\")#print statement \n",
    "print('123')#print statement\n",
    "print(\"123\")#print statement"
   ]
  }
 ],
 "metadata": {
  "kernelspec": {
   "display_name": "Python 3 (ipykernel)",
   "language": "python",
   "name": "python3"
  },
  "language_info": {
   "codemirror_mode": {
    "name": "ipython",
    "version": 3
   },
   "file_extension": ".py",
   "mimetype": "text/x-python",
   "name": "python",
   "nbconvert_exporter": "python",
   "pygments_lexer": "ipython3",
   "version": "3.11.5"
  }
 },
 "nbformat": 4,
 "nbformat_minor": 5
}
