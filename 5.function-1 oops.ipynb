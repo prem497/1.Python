{
 "cells": [
  {
   "cell_type": "code",
   "execution_count": 1,
   "id": "b40a48fa",
   "metadata": {},
   "outputs": [],
   "source": [
    "lists = [24,34,45,56,65]"
   ]
  },
  {
   "cell_type": "code",
   "execution_count": 2,
   "id": "6017f2f2",
   "metadata": {},
   "outputs": [],
   "source": [
    "def Agecategory():\n",
    "    for age in lists: \n",
    "        if(age<18):\n",
    "            print(\"Children\")\n",
    "            cate=\"Children\"\n",
    "        elif(age<35):\n",
    "            print(\"adult\")\n",
    "            cate=\"adult\"\n",
    "        elif(age<59):\n",
    "            print(\"citizen\")\n",
    "            cate=\"citizen\"\n",
    "        else:\n",
    "            print(\"Senior citizen\")\n",
    "            cate=\"Senior  citizen\"\n",
    "        return cate"
   ]
  },
  {
   "cell_type": "code",
   "execution_count": 3,
   "id": "4fe70963",
   "metadata": {},
   "outputs": [
    {
     "name": "stdout",
     "output_type": "stream",
     "text": [
      "Enter the Age:25\n",
      "adult\n"
     ]
    }
   ],
   "source": [
    "age= int(input(\"Enter the Age:\"))\n",
    "agecate=Agecategory()"
   ]
  },
  {
   "cell_type": "code",
   "execution_count": 4,
   "id": "71f71ccb",
   "metadata": {},
   "outputs": [
    {
     "name": "stdout",
     "output_type": "stream",
     "text": [
      "adult\n"
     ]
    }
   ],
   "source": [
    "print(agecate)"
   ]
  },
  {
   "cell_type": "code",
   "execution_count": 1,
   "id": "97b0b9d7",
   "metadata": {},
   "outputs": [],
   "source": [
    "#function to find odd or even \n",
    "def oddEven():\n",
    "    num=int(input(\"Enter the number:\"))\n",
    "    if((num%2)==1):\n",
    "        print(\"odd Number\")\n",
    "        message=\"odd Number\"\n",
    "    else:\n",
    "        print(\"Even number\")\n",
    "        message=\"Even Number\"\n",
    "    return message \n"
   ]
  },
  {
   "cell_type": "code",
   "execution_count": 2,
   "id": "9728fd13",
   "metadata": {},
   "outputs": [
    {
     "name": "stdout",
     "output_type": "stream",
     "text": [
      "Enter the number:5\n",
      "odd Number\n"
     ]
    },
    {
     "data": {
      "text/plain": [
       "'odd Number'"
      ]
     },
     "execution_count": 2,
     "metadata": {},
     "output_type": "execute_result"
    }
   ],
   "source": [
    "oddEven()"
   ]
  },
  {
   "cell_type": "code",
   "execution_count": null,
   "id": "bba22555",
   "metadata": {},
   "outputs": [],
   "source": []
  }
 ],
 "metadata": {
  "kernelspec": {
   "display_name": "Python 3 (ipykernel)",
   "language": "python",
   "name": "python3"
  },
  "language_info": {
   "codemirror_mode": {
    "name": "ipython",
    "version": 3
   },
   "file_extension": ".py",
   "mimetype": "text/x-python",
   "name": "python",
   "nbconvert_exporter": "python",
   "pygments_lexer": "ipython3",
   "version": "3.11.5"
  }
 },
 "nbformat": 4,
 "nbformat_minor": 5
}
