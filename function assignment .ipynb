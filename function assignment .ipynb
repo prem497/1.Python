{
 "cells": [
  {
   "cell_type": "code",
   "execution_count": 1,
   "id": "f916c390",
   "metadata": {},
   "outputs": [],
   "source": [
    "#create a function that whether the given number odd or even\n",
    "def oddEven():\n",
    "    num=int(input(\"Enter the number:\"))\n",
    "    if((num%2)==1):\n",
    "        print(\"odd Number\")\n",
    "        message=\"odd Number\"\n",
    "    else:\n",
    "        print(\"Even number\")\n",
    "        message=\"Even Number\"\n",
    "    return message \n",
    "\n",
    "\n"
   ]
  },
  {
   "cell_type": "code",
   "execution_count": 2,
   "id": "32e6dd71",
   "metadata": {},
   "outputs": [
    {
     "name": "stdout",
     "output_type": "stream",
     "text": [
      "Enter the number:7\n",
      "odd Number\n"
     ]
    },
    {
     "data": {
      "text/plain": [
       "'odd Number'"
      ]
     },
     "execution_count": 2,
     "metadata": {},
     "output_type": "execute_result"
    }
   ],
   "source": [
    "oddEven()"
   ]
  },
  {
   "cell_type": "code",
   "execution_count": 3,
   "id": "ed9ede9f",
   "metadata": {},
   "outputs": [
    {
     "name": "stdout",
     "output_type": "stream",
     "text": [
      "Enter your Gender (Male/Female): Male\n",
      "Enter your age: 17\n",
      "Not eligible \n"
     ]
    }
   ],
   "source": [
    "def check_eligibility(age, gender):\n",
    "    if gender.lower() == 'm' and age >= 21:\n",
    "        return \"Eligible for marriage\"\n",
    "    elif gender.lower() == 'f' and age >= 18:\n",
    "        return \"Eligible for marriage\"\n",
    "    else:\n",
    "        return \"Not eligible \"\n",
    "\n",
    "\n",
    "user_gender = input(\"Enter your Gender (Male/Female): \")\n",
    "user_age = int(input(\"Enter your age: \"))\n",
    "\n",
    "result = check_eligibility(user_age, user_gender)\n",
    "print(result)\n"
   ]
  },
  {
   "cell_type": "code",
   "execution_count": 4,
   "id": "9707c95c",
   "metadata": {},
   "outputs": [
    {
     "name": "stdout",
     "output_type": "stream",
     "text": [
      "\n",
      " Subject1 = 23 \n",
      " Subject2 = 45 \n",
      " Subject3 = 34 \n",
      " Subject4 = 23 \n",
      " Subject5 = 23\n",
      " Total   : 148\n",
      " percentage 29.6\n"
     ]
    }
   ],
   "source": [
    "Subject1= 23\n",
    "Subject2= 45\n",
    "Subject3= 34\n",
    "Subject4= 23\n",
    "Subject5= 23\n",
    "\n",
    "print(\"\\n\",\"Subject1 =\",Subject1,\"\\n\",\"Subject2 =\",Subject2,\"\\n\",\"Subject3 =\", Subject3,\"\\n\",\"Subject4 =\", Subject4,\"\\n\",\"Subject5 =\",Subject5)\n",
    "Add = Subject1+Subject2+Subject3+Subject4+Subject5\n",
    "print(\" Total   :\",Add)\n",
    "percentage = round(Add/5,2)\n",
    "print(\" percentage\",percentage)"
   ]
  },
  {
   "cell_type": "code",
   "execution_count": 15,
   "id": "12737ec9",
   "metadata": {},
   "outputs": [
    {
     "name": "stdout",
     "output_type": "stream",
     "text": [
      "\n",
      " Sub-fields in AI are: \n",
      " Machine Learning \n",
      " Neural Networks \n",
      " Vision \n",
      " Robotics \n",
      " Speech Processing \n",
      " Natural Language Processing\n"
     ]
    }
   ],
   "source": [
    "A = \"Sub-fields in AI are:\"\n",
    "B = \"Machine Learning\"\n",
    "C = \"Neural Networks\" \n",
    "D = \"Vision\"\n",
    "E = \"Robotics\"\n",
    "F = \"Speech Processing\"\n",
    "G = \"Natural Language Processing\"\n",
    "\n",
    "print (\"\\n\",A,\"\\n\", B,\"\\n\",C,\"\\n\",D,\"\\n\",E,\"\\n\",F,\"\\n\",G)"
   ]
  },
  {
   "cell_type": "code",
   "execution_count": 18,
   "id": "d560de11",
   "metadata": {},
   "outputs": [],
   "source": [
    "class triangle():\n",
    "\n",
    "    def triangle():\n",
    "        Height = int(input(\"Height :\"))\n",
    "        Breadth = int(input(\"Breadth :\"))\n",
    "\n",
    "        print(\"Area_formula = (Height*Breadth)/2\")\n",
    "        Area_formula = (Height*Breadth)/2\n",
    "        print(\"Area of Triangle: \",Area_formula)\n",
    "\n",
    "        Height1=int(input(\"Height1 :\"))\n",
    "        Height2= int(input(\"Height2 :\"))\n",
    "        Breadth= int(input(\"Breadth :\"))\n",
    "        Perimeter_formula = Height1+Height2+Breadth\n",
    "        print(\"Perimeter formula : Height1+Height2+Breadth\")\n",
    "        print(\"Area of Triangle: \", Perimeter_formula)\n",
    "\n",
    "\n",
    "        return Area_formula, Perimeter_formula"
   ]
  },
  {
   "cell_type": "code",
   "execution_count": 20,
   "id": "6b7d75e0",
   "metadata": {},
   "outputs": [
    {
     "name": "stdout",
     "output_type": "stream",
     "text": [
      "Height :32\n",
      "Breadth :34\n",
      "Area_formula = (Height*Breadth)/2\n",
      "Area of Triangle:  544.0\n",
      "Height1 :2\n",
      "Height2 :4\n",
      "Breadth :4\n",
      "Perimeter formula : Height1+Height2+Breadth\n",
      "Area of Triangle:  10\n"
     ]
    },
    {
     "data": {
      "text/plain": [
       "(544.0, 10)"
      ]
     },
     "execution_count": 20,
     "metadata": {},
     "output_type": "execute_result"
    }
   ],
   "source": [
    "triangle.triangle()"
   ]
  },
  {
   "cell_type": "code",
   "execution_count": null,
   "id": "89c19411",
   "metadata": {},
   "outputs": [],
   "source": []
  },
  {
   "cell_type": "code",
   "execution_count": null,
   "id": "cad15898",
   "metadata": {},
   "outputs": [],
   "source": []
  }
 ],
 "metadata": {
  "kernelspec": {
   "display_name": "Python 3 (ipykernel)",
   "language": "python",
   "name": "python3"
  },
  "language_info": {
   "codemirror_mode": {
    "name": "ipython",
    "version": 3
   },
   "file_extension": ".py",
   "mimetype": "text/x-python",
   "name": "python",
   "nbconvert_exporter": "python",
   "pygments_lexer": "ipython3",
   "version": "3.11.5"
  }
 },
 "nbformat": 4,
 "nbformat_minor": 5
}
