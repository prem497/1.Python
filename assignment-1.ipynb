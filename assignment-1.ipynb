{
 "cells": [
  {
   "cell_type": "code",
   "execution_count": 1,
   "id": "b970c224",
   "metadata": {},
   "outputs": [
    {
     "name": "stdout",
     "output_type": "stream",
     "text": [
      "Welcome to Assignment-1\n"
     ]
    }
   ],
   "source": [
    "print('Welcome to Assignment-1')"
   ]
  },
  {
   "cell_type": "code",
   "execution_count": 2,
   "id": "8bb5ada7",
   "metadata": {},
   "outputs": [
    {
     "name": "stdout",
     "output_type": "stream",
     "text": [
      "Welcome to Assignment-1\n"
     ]
    }
   ],
   "source": [
    "print(\"Welcome to Assignment-1\")"
   ]
  },
  {
   "cell_type": "code",
   "execution_count": 3,
   "id": "e88e0840",
   "metadata": {},
   "outputs": [
    {
     "name": "stdout",
     "output_type": "stream",
     "text": [
      "Enter the BMI Index:34\n"
     ]
    }
   ],
   "source": [
    "#body mass index\n",
    "w=int(input(\"Enter the BMI Index:\"))\n"
   ]
  },
  {
   "cell_type": "code",
   "execution_count": 6,
   "id": "ff590190",
   "metadata": {},
   "outputs": [
    {
     "name": "stdout",
     "output_type": "stream",
     "text": [
      "very overweight\n"
     ]
    }
   ],
   "source": [
    "if(w==34):\n",
    "    print(\"very overweight\")"
   ]
  },
  {
   "cell_type": "code",
   "execution_count": 7,
   "id": "18d00e35",
   "metadata": {},
   "outputs": [
    {
     "name": "stdout",
     "output_type": "stream",
     "text": [
      "10\n"
     ]
    }
   ],
   "source": [
    "NUM1=10\n",
    "NUM2=30\n",
    "ADD=40\n",
    "print(NUM1)"
   ]
  },
  {
   "cell_type": "code",
   "execution_count": null,
   "id": "ef150c79",
   "metadata": {},
   "outputs": [],
   "source": []
  }
 ],
 "metadata": {
  "kernelspec": {
   "display_name": "Python 3 (ipykernel)",
   "language": "python",
   "name": "python3"
  },
  "language_info": {
   "codemirror_mode": {
    "name": "ipython",
    "version": 3
   },
   "file_extension": ".py",
   "mimetype": "text/x-python",
   "name": "python",
   "nbconvert_exporter": "python",
   "pygments_lexer": "ipython3",
   "version": "3.11.5"
  }
 },
 "nbformat": 4,
 "nbformat_minor": 5
}
