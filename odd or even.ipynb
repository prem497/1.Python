{
 "cells": [
  {
   "cell_type": "code",
   "execution_count": null,
   "id": "9fa97afb",
   "metadata": {},
   "outputs": [],
   "source": [
    "#to print odd or even \n",
    "num=int(input(\"Enter the number:\"))\n",
    "if((num%2)==0):\n",
    "    print()"
   ]
  }
 ],
 "metadata": {
  "kernelspec": {
   "display_name": "Python 3 (ipykernel)",
   "language": "python",
   "name": "python3"
  },
  "language_info": {
   "codemirror_mode": {
    "name": "ipython",
    "version": 3
   },
   "file_extension": ".py",
   "mimetype": "text/x-python",
   "name": "python",
   "nbconvert_exporter": "python",
   "pygments_lexer": "ipython3",
   "version": "3.11.5"
  }
 },
 "nbformat": 4,
 "nbformat_minor": 5
}
